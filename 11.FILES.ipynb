{
 "cells": [
  {
   "cell_type": "code",
   "execution_count": 1,
   "id": "d057f4d4",
   "metadata": {},
   "outputs": [
    {
     "name": "stdout",
     "output_type": "stream",
     "text": [
      "I LOVE PYTHON.\"Code is like humor. When you have to explain it, itâ€™s bad.\" \n"
     ]
    }
   ],
   "source": [
    "#1. Write a program to read text file\n",
    "fileObject = open(\"D:\\\\python.txt\", \"r\")\n",
    "data = fileObject.read()\n",
    "print(data)\n"
   ]
  },
  {
   "cell_type": "code",
   "execution_count": 2,
   "id": "35bf11f1",
   "metadata": {},
   "outputs": [
    {
     "name": "stdout",
     "output_type": "stream",
     "text": [
      "Output of Readlines after appending\n",
      "['This is Delhi \\n', 'This is Paris \\n', 'This is London \\n', 'Today \\n']\n",
      "\n",
      "Output of Readlines after writing\n",
      "['Tomorrow \\n']\n",
      "\n"
     ]
    }
   ],
   "source": [
    "#2. Write a program to write text to .txt file using InputStream\n",
    "file1 = open(\"myfile.txt\",\"w\")\n",
    "L = [\"This is Delhi \\n\",\"This is Paris \\n\",\"This is London \\n\"]\n",
    "file1.writelines(L)\n",
    "file1.close()\n",
    "\n",
    "file1 = open(\"myfile.txt\",\"a\")\n",
    "file1.write(\"Today \\n\")\n",
    "file1.close()\n",
    "\n",
    "file1 = open(\"myfile.txt\",\"r\")\n",
    "print(\"Output of Readlines after appending\")\n",
    "print(file1.readlines())\n",
    "print()\n",
    "file1.close()\n",
    "\n",
    "file1 = open(\"myfile.txt\",\"w\")\n",
    "file1.write(\"Tomorrow \\n\")\n",
    "file1.close()\n",
    "\n",
    "file1 = open(\"myfile.txt\",\"r\")\n",
    "print(\"Output of Readlines after writing\")\n",
    "print(file1.readlines())\n",
    "print()\n",
    "file1.close()\n"
   ]
  },
  {
   "cell_type": "code",
   "execution_count": 3,
   "id": "bdb26eeb",
   "metadata": {},
   "outputs": [
    {
     "name": "stdout",
     "output_type": "stream",
     "text": [
      "I LOVE PYTHON.\"Code is like humor. When you have to explain it, itâ€™s bad.\" \n"
     ]
    }
   ],
   "source": [
    "#3. Write a program to read a file stream\n",
    "\n",
    "text_file = open('D:\\\\python.txt','r')\n",
    "line_list = text_file.readlines();\n",
    "for line in line_list:\n",
    "    print(line)\n",
    "\n",
    "text_file.close()"
   ]
  },
  {
   "cell_type": "code",
   "execution_count": 4,
   "id": "e5e1e90a",
   "metadata": {},
   "outputs": [
    {
     "name": "stdout",
     "output_type": "stream",
     "text": [
      "I LOVE PYTHON.\"Code is like humor. When you have to explain it, itâ€™s bad.\" \n"
     ]
    }
   ],
   "source": [
    "#4. Write a program to read a file stream supports random access\n",
    "# open a file\n",
    "file1 = open(\"D:\\\\python.txt\", \"r\")\n",
    "\n",
    "# read the file\n",
    "read_content = file1.read()\n",
    "print(read_content)"
   ]
  },
  {
   "cell_type": "code",
   "execution_count": 5,
   "id": "15807c6e",
   "metadata": {},
   "outputs": [
    {
     "name": "stdout",
     "output_type": "stream",
     "text": [
      "20\n",
      "is like humor. When you have to explain it, itâ€™s bad.\" \n"
     ]
    }
   ],
   "source": [
    "#5. Write a program to read a file a just to a particular index using seek()\n",
    "\n",
    "f = open(\"D:\\\\python.txt\", \"r\")\n",
    "f.seek(20)\n",
    "print(f.tell())\n",
    "\n",
    "print(f.readline())\n",
    "f.close()"
   ]
  },
  {
   "cell_type": "code",
   "execution_count": 6,
   "id": "e718207b",
   "metadata": {},
   "outputs": [
    {
     "data": {
      "text/plain": [
       "True"
      ]
     },
     "execution_count": 6,
     "metadata": {},
     "output_type": "execute_result"
    }
   ],
   "source": [
    "#6. Write a program to check whether a file is having read access and write access permissions\n",
    "import os\n",
    "os.access('D:\\\\python.txt', os.R_OK) "
   ]
  },
  {
   "cell_type": "code",
   "execution_count": 7,
   "id": "9099a031",
   "metadata": {},
   "outputs": [
    {
     "data": {
      "text/plain": [
       "True"
      ]
     },
     "execution_count": 7,
     "metadata": {},
     "output_type": "execute_result"
    }
   ],
   "source": [
    "os.access('D:\\\\python.txt', os.W_OK)"
   ]
  },
  {
   "cell_type": "code",
   "execution_count": null,
   "id": "0e1c843f",
   "metadata": {},
   "outputs": [],
   "source": []
  }
 ],
 "metadata": {
  "kernelspec": {
   "display_name": "Python 3 (ipykernel)",
   "language": "python",
   "name": "python3"
  },
  "language_info": {
   "codemirror_mode": {
    "name": "ipython",
    "version": 3
   },
   "file_extension": ".py",
   "mimetype": "text/x-python",
   "name": "python",
   "nbconvert_exporter": "python",
   "pygments_lexer": "ipython3",
   "version": "3.9.12"
  }
 },
 "nbformat": 4,
 "nbformat_minor": 5
}
