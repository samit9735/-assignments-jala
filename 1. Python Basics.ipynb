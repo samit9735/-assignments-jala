{
 "cells": [
  {
   "cell_type": "code",
   "execution_count": 1,
   "id": "da8d4a85",
   "metadata": {},
   "outputs": [
    {
     "name": "stdout",
     "output_type": "stream",
     "text": [
      "Enter your name: Samit Nandi\n",
      "Samit Nandi\n"
     ]
    }
   ],
   "source": [
    "#1.Write a program to print your name.\n",
    "\n",
    "name = input(\"Enter your name: \")\n",
    "print(name)"
   ]
  },
  {
   "cell_type": "code",
   "execution_count": 2,
   "id": "8c2c39e1",
   "metadata": {},
   "outputs": [
    {
     "name": "stdout",
     "output_type": "stream",
     "text": [
      "Python Comments\n"
     ]
    }
   ],
   "source": [
    "#2.Write a program for a Single line comment and multi-line comments\n",
    "#single\n",
    "print(\"Python Comments\")"
   ]
  },
  {
   "cell_type": "code",
   "execution_count": 3,
   "id": "08e4b0f7",
   "metadata": {},
   "outputs": [
    {
     "name": "stdout",
     "output_type": "stream",
     "text": [
      "Mathematics\n"
     ]
    }
   ],
   "source": [
    "#multi-line\n",
    "print(\"Mathematics\")"
   ]
  },
  {
   "cell_type": "code",
   "execution_count": 4,
   "id": "faaafa7b",
   "metadata": {},
   "outputs": [
    {
     "name": "stdout",
     "output_type": "stream",
     "text": [
      "<class 'bool'>\n",
      "<class 'bool'>\n"
     ]
    }
   ],
   "source": [
    "#3.Define variables for different Data Types int, Boolean, char, float, double and print on the Console.\n",
    "#boolean\n",
    "print(type(True))\n",
    "print(type(False))"
   ]
  },
  {
   "cell_type": "code",
   "execution_count": 5,
   "id": "d53ab774",
   "metadata": {},
   "outputs": [
    {
     "name": "stdout",
     "output_type": "stream",
     "text": [
      "Initial String: \n",
      "Python\n",
      "\n",
      "First character of String is: \n",
      "P\n",
      "\n",
      "Last character of String is: \n",
      "n\n"
     ]
    }
   ],
   "source": [
    "#char\n",
    "String = \"Python\"\n",
    "print(\"Initial String: \") \n",
    "print(String) \n",
    "\n",
    "print(\"\\nFirst character of String is: \") \n",
    "print(String[0]) \n",
    " \n",
    "print(\"\\nLast character of String is: \") \n",
    "print(String[-1]) "
   ]
  },
  {
   "cell_type": "code",
   "execution_count": 6,
   "id": "abd757f8",
   "metadata": {},
   "outputs": [
    {
     "name": "stdout",
     "output_type": "stream",
     "text": [
      "45.3365859965333  type:  <class 'float'>\n",
      "45.4564  type:  <class 'float'>\n"
     ]
    }
   ],
   "source": [
    "#double\n",
    "num = 45.3365859965333\n",
    "print(num, \" type: \", type(num))\n",
    "\n",
    "# a float variable\n",
    "f = 45.4564\n",
    "print(f, \" type: \", type(f))"
   ]
  },
  {
   "cell_type": "code",
   "execution_count": 7,
   "id": "2b64d5ad",
   "metadata": {},
   "outputs": [
    {
     "name": "stdout",
     "output_type": "stream",
     "text": [
      "Inside Function: I love Pyhon\n"
     ]
    },
    {
     "ename": "NameError",
     "evalue": "name 's' is not defined",
     "output_type": "error",
     "traceback": [
      "\u001b[1;31m---------------------------------------------------------------------------\u001b[0m",
      "\u001b[1;31mNameError\u001b[0m                                 Traceback (most recent call last)",
      "Input \u001b[1;32mIn [7]\u001b[0m, in \u001b[0;36m<cell line: 8>\u001b[1;34m()\u001b[0m\n\u001b[0;32m      5\u001b[0m     \u001b[38;5;28mprint\u001b[39m(\u001b[38;5;124m\"\u001b[39m\u001b[38;5;124mInside Function:\u001b[39m\u001b[38;5;124m\"\u001b[39m, s)\n\u001b[0;32m      7\u001b[0m f()\n\u001b[1;32m----> 8\u001b[0m \u001b[38;5;28mprint\u001b[39m(\u001b[43ms\u001b[49m)\n",
      "\u001b[1;31mNameError\u001b[0m: name 's' is not defined"
     ]
    }
   ],
   "source": [
    "#4.Define the local and Global variables with the same name and print both variables and understand the scope of the variables\n",
    "def f():\n",
    "# local variable\n",
    "    s = \"I love Pyhon\"\n",
    "    print(\"Inside Function:\", s)\n",
    "\n",
    "f()\n",
    "print(s)"
   ]
  },
  {
   "cell_type": "code",
   "execution_count": 8,
   "id": "a639f9a7",
   "metadata": {},
   "outputs": [
    {
     "name": "stdout",
     "output_type": "stream",
     "text": [
      "Inside Function I love Python\n",
      "Outside Function I love Python\n"
     ]
    }
   ],
   "source": [
    "# This function uses global variable s\n",
    "def f():\n",
    "\tprint(\"Inside Function\", s)\n",
    "s = \"I love Python\"\n",
    "f()\n",
    "print(\"Outside Function\", s)\n"
   ]
  },
  {
   "cell_type": "code",
   "execution_count": null,
   "id": "465c200a",
   "metadata": {},
   "outputs": [],
   "source": []
  }
 ],
 "metadata": {
  "kernelspec": {
   "display_name": "Python 3 (ipykernel)",
   "language": "python",
   "name": "python3"
  },
  "language_info": {
   "codemirror_mode": {
    "name": "ipython",
    "version": 3
   },
   "file_extension": ".py",
   "mimetype": "text/x-python",
   "name": "python",
   "nbconvert_exporter": "python",
   "pygments_lexer": "ipython3",
   "version": "3.9.12"
  }
 },
 "nbformat": 4,
 "nbformat_minor": 5
}
