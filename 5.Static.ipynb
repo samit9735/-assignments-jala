{
 "cells": [
  {
   "cell_type": "code",
   "execution_count": 1,
   "id": "ba0ca6b7",
   "metadata": {},
   "outputs": [
    {
     "name": "stdout",
     "output_type": "stream",
     "text": [
      "1\n",
      "2\n",
      "2\n"
     ]
    }
   ],
   "source": [
    "#1. Define a static variable and access that through a class\n",
    "class MyClass:\n",
    "    static_var = 0\n",
    "\n",
    "    def __init__(self):\n",
    "        MyClass.static_var += 1\n",
    "        self.instance_var = MyClass.static_var\n",
    "\n",
    "obj1 = MyClass()\n",
    "print(obj1.instance_var) \n",
    "\n",
    "obj2 = MyClass()\n",
    "print(obj2.instance_var) \n",
    "\n",
    "print(MyClass.static_var) \n"
   ]
  },
  {
   "cell_type": "code",
   "execution_count": 2,
   "id": "71dac752",
   "metadata": {},
   "outputs": [
    {
     "name": "stdout",
     "output_type": "stream",
     "text": [
      "Accessing class variable using object c1:  2\n",
      "Accessing class variable using object c2:  2\n",
      "Accessing class variable using classname:  2\n"
     ]
    }
   ],
   "source": [
    "#2. Define a static variable and access that through a instance\n",
    "class Cake:\n",
    "  noOfCakes = 0\n",
    "  \n",
    "  def __init__(self):\n",
    "    type(self).noOfCakes = type(self).noOfCakes + 1\n",
    "  \n",
    "c1 = Cake() \n",
    "c2 = Cake() \n",
    "print('Accessing class variable using object c1: ', c1.noOfCakes)\n",
    "print('Accessing class variable using object c2: ',c2.noOfCakes)\n",
    "print('Accessing class variable using classname: ', Cake.noOfCakes)"
   ]
  },
  {
   "cell_type": "code",
   "execution_count": 3,
   "id": "e48e4555",
   "metadata": {},
   "outputs": [
    {
     "name": "stdout",
     "output_type": "stream",
     "text": [
      "cake\n",
      "cake\n",
      "Butterscotch Cake\n",
      "Chocolate-Truffle Cake\n",
      "300\n",
      "250\n"
     ]
    }
   ],
   "source": [
    "#3.Define a static variable and change within the instance\n",
    "class Bakery:\n",
    "    type = 'cake'                  \n",
    "    def __init__(self,flavor,price):\n",
    "        self.flavor = flavor            \n",
    "        self.price = price            \n",
    " \n",
    "\n",
    "a = Bakery('Butterscotch Cake', 300)\n",
    "b = Bakery('Chocolate-Truffle Cake', 250)\n",
    " \n",
    "print(a.type)  \n",
    "print(b.type)  \n",
    "print(a.flavor)    \n",
    "print(b.flavor)    \n",
    "print(a.price)   \n",
    "print(b.price)    \n",
    "\n"
   ]
  },
  {
   "cell_type": "code",
   "execution_count": 4,
   "id": "cd807ac5",
   "metadata": {},
   "outputs": [
    {
     "name": "stdout",
     "output_type": "stream",
     "text": [
      "Accessing class variable using object c1:  2\n",
      "Accessing class variable using object c2:  2\n",
      "Accessing class variable using classname:  2\n"
     ]
    }
   ],
   "source": [
    "#4.Define a static variable and change within the class\n",
    "class Cake:\n",
    "  noOfCakes = 0\n",
    "  \n",
    "  def __init__(self):\n",
    "    type(self).noOfCakes = type(self).noOfCakes + 1\n",
    "  \n",
    "c1 = Cake()\n",
    "c2 = Cake()\n",
    "print('Accessing class variable using object c1: ', c1.noOfCakes)\n",
    "print('Accessing class variable using object c2: ',c2.noOfCakes)\n",
    "print('Accessing class variable using classname: ', Cake.noOfCakes)\n",
    "\n"
   ]
  },
  {
   "cell_type": "code",
   "execution_count": null,
   "id": "9ab8a0dc",
   "metadata": {},
   "outputs": [],
   "source": []
  }
 ],
 "metadata": {
  "kernelspec": {
   "display_name": "Python 3 (ipykernel)",
   "language": "python",
   "name": "python3"
  },
  "language_info": {
   "codemirror_mode": {
    "name": "ipython",
    "version": 3
   },
   "file_extension": ".py",
   "mimetype": "text/x-python",
   "name": "python",
   "nbconvert_exporter": "python",
   "pygments_lexer": "ipython3",
   "version": "3.9.12"
  }
 },
 "nbformat": 4,
 "nbformat_minor": 5
}
