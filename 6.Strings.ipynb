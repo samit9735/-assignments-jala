{
 "cells": [
  {
   "cell_type": "code",
   "execution_count": 1,
   "id": "112b8f8e",
   "metadata": {},
   "outputs": [
    {
     "name": "stdout",
     "output_type": "stream",
     "text": [
      "Python\n",
      "I love Python.\n"
     ]
    }
   ],
   "source": [
    "#1. Different ways creating a string\n",
    "name = \"Python\"\n",
    "print(name)\n",
    "\n",
    "message = \"I love Python.\"\n",
    "print(message)"
   ]
  },
  {
   "cell_type": "code",
   "execution_count": 2,
   "id": "523394da",
   "metadata": {},
   "outputs": [
    {
     "name": "stdout",
     "output_type": "stream",
     "text": [
      "Hello World\n"
     ]
    }
   ],
   "source": [
    "#2. Concatenating two strings using + operator\n",
    "\n",
    "var1 = \"Hello \"\n",
    "var2 = \"World\"\n",
    "var3 = var1 + var2\n",
    "print(var3)\n"
   ]
  },
  {
   "cell_type": "code",
   "execution_count": 3,
   "id": "f3ca574d",
   "metadata": {},
   "outputs": [
    {
     "name": "stdout",
     "output_type": "stream",
     "text": [
      "13\n"
     ]
    }
   ],
   "source": [
    "#3. Finding the length of the string\n",
    "a = \"Hello, World!\"\n",
    "print(len(a))"
   ]
  },
  {
   "cell_type": "code",
   "execution_count": 4,
   "id": "9ef9372e",
   "metadata": {},
   "outputs": [
    {
     "name": "stdout",
     "output_type": "stream",
     "text": [
      "a\n",
      "e\n"
     ]
    }
   ],
   "source": [
    "#4. Extract a string using Substring\n",
    "s = 'abcde'\n",
    "\n",
    "print(s[0])\n",
    "\n",
    "print(s[4])"
   ]
  },
  {
   "cell_type": "code",
   "execution_count": 5,
   "id": "7459fc29",
   "metadata": {},
   "outputs": [
    {
     "name": "stdout",
     "output_type": "stream",
     "text": [
      "index of 'and' in string: 1\n"
     ]
    }
   ],
   "source": [
    "#5. Searching in strings using index()\n",
    "string = 'random'\n",
    "print(\"index of 'and' in string:\", string.index('and'))\n"
   ]
  },
  {
   "cell_type": "code",
   "execution_count": 6,
   "id": "e175553a",
   "metadata": {},
   "outputs": [
    {
     "name": "stdout",
     "output_type": "stream",
     "text": [
      "415\n"
     ]
    }
   ],
   "source": [
    "#6. Matching a String Against a Regular Expression With matches()\n",
    "import re\n",
    "phoneNumRegex = re.compile(r'(\\d\\d\\d)-(\\d\\d\\d-\\d\\d\\d\\d)')\n",
    "mo = phoneNumRegex.search('My number is 415-555-4242.')\n",
    "print(mo.group(1))\n"
   ]
  },
  {
   "cell_type": "code",
   "execution_count": 7,
   "id": "bc1d87d5",
   "metadata": {},
   "outputs": [
    {
     "name": "stdout",
     "output_type": "stream",
     "text": [
      "True\n",
      "True\n",
      "False\n",
      "False\n"
     ]
    }
   ],
   "source": [
    "#7. Comparing strings\n",
    "print(\"Geek\" == \"Geek\")\n",
    "print(\"Geek\" < \"geek\")\n",
    "print(\"Geek\" > \"geek\")\n",
    "print(\"Geek\" != \"Geek\")\n"
   ]
  },
  {
   "cell_type": "code",
   "execution_count": 8,
   "id": "2ad273de",
   "metadata": {},
   "outputs": [
    {
     "name": "stdout",
     "output_type": "stream",
     "text": [
      "True\n",
      "False\n",
      "True\n",
      "\n",
      "\n",
      "True\n",
      "False\n",
      "True\n"
     ]
    }
   ],
   "source": [
    "#8. startsWith(), endsWith() and compareTo()\n",
    "\n",
    "str = \"GeeksforGeeks\"\n",
    "\n",
    "print(str.startswith(\"Geeks\"))\n",
    "print(str.startswith(\"Geeks\", 4, 10))\n",
    "print(str.startswith(\"Geeks\", 8, 14))\n",
    "\n",
    "print(\"\\n\")\n",
    "\n",
    "print(str.endswith(\"Geeks\"))\n",
    "print(str.endswith(\"Geeks\", 2, 8))\n",
    "print(str.endswith(\"for\", 5, 8))\n"
   ]
  },
  {
   "cell_type": "code",
   "execution_count": 9,
   "id": "90e42785",
   "metadata": {},
   "outputs": [
    {
     "name": "stdout",
     "output_type": "stream",
     "text": [
      "ello World\n"
     ]
    }
   ],
   "source": [
    "#9. Trimming strings with strip()\n",
    "greeting = \"Hello World?\"\n",
    "\n",
    "stripped_greeting = greeting.strip(\"H?\")\n",
    "\n",
    "print(stripped_greeting)\n"
   ]
  },
  {
   "cell_type": "code",
   "execution_count": 10,
   "id": "c0fd3803",
   "metadata": {},
   "outputs": [
    {
     "name": "stdout",
     "output_type": "stream",
     "text": [
      "grrks FOR grrks\n",
      "geeks FOR geeks\n"
     ]
    }
   ],
   "source": [
    "#10. Replacing characters in strings with replace()\n",
    "string = \"grrks FOR grrks\"\n",
    "\n",
    "new_string = string.replace(\"r\", \"e\" )\n",
    "\n",
    "print(string)\n",
    "print(new_string)"
   ]
  },
  {
   "cell_type": "code",
   "execution_count": 11,
   "id": "b01d4a1a",
   "metadata": {},
   "outputs": [
    {
     "name": "stdout",
     "output_type": "stream",
     "text": [
      "['one', 'two', 'three']\n"
     ]
    }
   ],
   "source": [
    "#11. Splitting strings with split()\n",
    "string = \"one,two,three\"\n",
    "words = string.split(',')\n",
    "print(words)"
   ]
  },
  {
   "cell_type": "code",
   "execution_count": 12,
   "id": "0a2a8629",
   "metadata": {},
   "outputs": [
    {
     "name": "stdout",
     "output_type": "stream",
     "text": [
      "Type of variable before conversion :  <class 'int'>\n",
      "Type after conversion :  <class 'str'>\n"
     ]
    }
   ],
   "source": [
    "#12. Converting integer objects to Strings\n",
    "num = 10\n",
    "print(\"Type of variable before conversion : \", type(num))\n",
    "converted_num = \"% s\" % num\n",
    "print(\"Type after conversion : \", type(converted_num))"
   ]
  },
  {
   "cell_type": "code",
   "execution_count": 13,
   "id": "efb1be0a",
   "metadata": {},
   "outputs": [
    {
     "name": "stdout",
     "output_type": "stream",
     "text": [
      "Original String:\n",
      "I LoVe PYthON\n",
      "\n",
      "Converted String:\n",
      "i love python\n"
     ]
    }
   ],
   "source": [
    "#13. Converting to uppercase and lowercase\n",
    "text = 'I LoVe PYthON'\n",
    "\n",
    "print(\"Original String:\")\n",
    "print(text)\n",
    "print(\"\\nConverted String:\")\n",
    "print(text.lower())"
   ]
  },
  {
   "cell_type": "code",
   "execution_count": null,
   "id": "dfab1306",
   "metadata": {},
   "outputs": [],
   "source": []
  }
 ],
 "metadata": {
  "kernelspec": {
   "display_name": "Python 3 (ipykernel)",
   "language": "python",
   "name": "python3"
  },
  "language_info": {
   "codemirror_mode": {
    "name": "ipython",
    "version": 3
   },
   "file_extension": ".py",
   "mimetype": "text/x-python",
   "name": "python",
   "nbconvert_exporter": "python",
   "pygments_lexer": "ipython3",
   "version": "3.9.12"
  }
 },
 "nbformat": 4,
 "nbformat_minor": 5
}
