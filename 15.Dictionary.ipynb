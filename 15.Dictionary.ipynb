{
 "cells": [
  {
   "cell_type": "code",
   "execution_count": 1,
   "id": "7e2d1bcc",
   "metadata": {},
   "outputs": [
    {
     "name": "stdout",
     "output_type": "stream",
     "text": [
      "Initial Dictionary:  {1: 'Ram', 2: 'Samit', 3: 'Piu', 4: 'Sita', 5: 'Raj'}\n",
      "Updated Dictionary:  {1: 'Ram', 2: 'Samit', 3: 'Piu', 4: 'Sita', 5: 'Raj', 6: 'Riya'}\n"
     ]
    }
   ],
   "source": [
    "#1.Create a Dictionary with at least 5 key value pairs of the Student ID and Name\n",
    "#1.1. Adding the values in dictionary\n",
    "Student_ID = {1: \"Ram\", 2: \"Samit\",3:\"Piu\",4:\"Sita\",5:\"Raj\"}\n",
    "print(\"Initial Dictionary: \",Student_ID)\n",
    "\n",
    "Student_ID[6] = \"Riya\"\n",
    "\n",
    "print(\"Updated Dictionary: \",Student_ID)"
   ]
  },
  {
   "cell_type": "code",
   "execution_count": 2,
   "id": "3405232e",
   "metadata": {},
   "outputs": [
    {
     "name": "stdout",
     "output_type": "stream",
     "text": [
      "Original Dictionary:\n",
      "{1: 'Ram', 2: 'Samit', 3: 'Piu', 4: 'Sita', 5: 'Raj'}\n",
      "Dictionary after updation:\n",
      "{1: 'Ram', 2: 'Samit', 3: 'Priya', 4: 'Sita', 5: 'Raj'}\n"
     ]
    }
   ],
   "source": [
    "#1.2 Updating the values in dictionary\n",
    "Student_ID1 ={1: \"Ram\", 2: \"Samit\",3:\"Piu\",4:\"Sita\",5:\"Raj\"}\n",
    "Student_ID2 = {3:\"Priya\"}\n",
    "\n",
    "print(\"Original Dictionary:\")\n",
    "print(Student_ID1)\n",
    "\n",
    "Student_ID1.update(Student_ID2)\n",
    "print(\"Dictionary after updation:\")\n",
    "print(Student_ID1)\n"
   ]
  },
  {
   "cell_type": "code",
   "execution_count": 3,
   "id": "c3262dc3",
   "metadata": {},
   "outputs": [
    {
     "name": "stdout",
     "output_type": "stream",
     "text": [
      "Samit\n"
     ]
    }
   ],
   "source": [
    "#1.3. Accessing the value in dictionary\n",
    "\n",
    "Student_ID={\n",
    "    1: \"Ram\",\n",
    "    2: \"Samit\",\n",
    "    3: \"Piu\",\n",
    "    4: \"Sita\",\n",
    "    5: \"Raj\"\n",
    "}\n",
    "x=Student_ID[2]\n",
    "print(x)"
   ]
  },
  {
   "cell_type": "code",
   "execution_count": 4,
   "id": "4422a1c5",
   "metadata": {},
   "outputs": [
    {
     "name": "stdout",
     "output_type": "stream",
     "text": [
      "{'stu1': {1: 'Ram', 2: 'sita'}, 'stu2': {1: 'Samit', 2: 'Piu'}, 'stu3': {1: 'Raj', 2: 'Priya'}}\n"
     ]
    }
   ],
   "source": [
    "#1.4. Create a nested loop dictionary\n",
    "D=dict(stu1={1:\"Ram\",2:\"sita\"},\n",
    "       stu2={1:\"Samit\",2:\"Piu\"},\n",
    "       stu3={1:\"Raj\",2:\"Priya\"})\n",
    "print(D)"
   ]
  },
  {
   "cell_type": "code",
   "execution_count": 5,
   "id": "c33d341b",
   "metadata": {},
   "outputs": [
    {
     "name": "stdout",
     "output_type": "stream",
     "text": [
      "{'Name': 'Bobby', 'Id': 1, 'Age': 20}\n",
      "{'Name': 'ojaswi', 'Id': 2, 'Age': 22}\n",
      "{'Name': 'rohith', 'Id': 3, 'Age': 20}\n"
     ]
    }
   ],
   "source": [
    "#1.5. Access the values of nested loop dictionary\n",
    "data = {\n",
    "    'Student 1': {'Name': 'Bobby', 'Id': 1, \"Age\": 20},\n",
    "    'Student 2': {'Name': 'ojaswi', 'Id': 2, \"Age\": 22},\n",
    "    'Student 3': {'Name': 'rohith', 'Id': 3, \"Age\": 20},\n",
    "}\n",
    "\n",
    "for i in data:\n",
    "    print(data[i])\n"
   ]
  },
  {
   "cell_type": "code",
   "execution_count": 6,
   "id": "62a76beb",
   "metadata": {},
   "outputs": [
    {
     "name": "stdout",
     "output_type": "stream",
     "text": [
      "key by value: {'Sita'}\n"
     ]
    }
   ],
   "source": [
    "#1.6. Print the keys present in a particular dictionary\n",
    "dic ={\"Ram\": \"A\",\"Sita\":\"B\",\"Samit\":\"C\"}\n",
    "\n",
    "value = {i for i in dic if dic[i]==\"B\"}\n",
    "print(\"key by value:\",value)\n"
   ]
  },
  {
   "cell_type": "code",
   "execution_count": 7,
   "id": "26ca96ce",
   "metadata": {},
   "outputs": [
    {
     "name": "stdout",
     "output_type": "stream",
     "text": [
      "{1: 'Ram', 2: 'Samit', 3: 'Piu', 4: 'Sita', 5: 'Raj'}\n",
      "{1: 'Ram', 2: 'Samit', 4: 'Sita', 5: 'Raj'}\n"
     ]
    }
   ],
   "source": [
    "#1.7. Delete a value from a dictionary\n",
    "Student_ID ={1: \"Ram\", 2: \"Samit\",3:\"Piu\",4:\"Sita\",5:\"Raj\"}\n",
    "print(Student_ID)\n",
    "\n",
    "del Student_ID[3]\n",
    "print(Student_ID)"
   ]
  },
  {
   "cell_type": "code",
   "execution_count": null,
   "id": "37b8f1a7",
   "metadata": {},
   "outputs": [],
   "source": []
  }
 ],
 "metadata": {
  "kernelspec": {
   "display_name": "Python 3 (ipykernel)",
   "language": "python",
   "name": "python3"
  },
  "language_info": {
   "codemirror_mode": {
    "name": "ipython",
    "version": 3
   },
   "file_extension": ".py",
   "mimetype": "text/x-python",
   "name": "python",
   "nbconvert_exporter": "python",
   "pygments_lexer": "ipython3",
   "version": "3.9.12"
  }
 },
 "nbformat": 4,
 "nbformat_minor": 5
}
