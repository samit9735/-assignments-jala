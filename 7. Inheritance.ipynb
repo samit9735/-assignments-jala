{
 "cells": [
  {
   "cell_type": "code",
   "execution_count": 1,
   "id": "d292ae41",
   "metadata": {},
   "outputs": [
    {
     "name": "stdout",
     "output_type": "stream",
     "text": [
      "<class 'dict'>\n"
     ]
    }
   ],
   "source": [
    "#A, B and C are classes\n",
    "import abc\n",
    "class AbstractClass(metaclass=abc.ABCMeta):\n",
    "    def abstractfunc(self):\n",
    "        return None\n",
    "print(AbstractClass.register(dict))"
   ]
  },
  {
   "cell_type": "code",
   "execution_count": 2,
   "id": "ed94dc9e",
   "metadata": {},
   "outputs": [
    {
     "name": "stdout",
     "output_type": "stream",
     "text": [
      "True\n"
     ]
    }
   ],
   "source": [
    "#A is a super class. B is a sub class of A. C is a sub class of B.\n",
    "class A:\n",
    "    pass\n",
    "class B(A):\n",
    "    pass\n",
    "class C(B):\n",
    "    pass\n",
    "x = C()\n",
    "print(isinstance(x, A))"
   ]
  },
  {
   "cell_type": "code",
   "execution_count": 3,
   "id": "313ad248",
   "metadata": {},
   "outputs": [
    {
     "name": "stdout",
     "output_type": "stream",
     "text": [
      "Inside Child\n",
      "Inside Parent2\n"
     ]
    }
   ],
   "source": [
    "#Create three methods in each class,\n",
    "#2 methods are specific to each class and third method (override method) should be in all three Classes A, B and C\n",
    "\n",
    "class Parent1():\n",
    "    def show(self):\n",
    "        print(\"Inside Parent1\")\n",
    "\n",
    "class Parent2():\n",
    "    def display(self):\n",
    "        print(\"Inside Parent2\")\n",
    "        \n",
    "class Child(Parent1, Parent2):\n",
    "    def show(self):\n",
    "        print(\"Inside Child\")\n",
    "\n",
    "obj = Child()\n",
    "\n",
    "obj.show()\n",
    "obj.display()\n"
   ]
  },
  {
   "cell_type": "code",
   "execution_count": 4,
   "id": "5ec9a462",
   "metadata": {},
   "outputs": [
    {
     "name": "stdout",
     "output_type": "stream",
     "text": [
      "mammal\n",
      "I'm a mammal\n",
      "I'm a dog\n"
     ]
    }
   ],
   "source": [
    "#Create a class with main method. Create an object for each class A, \n",
    "#B and C in main method and call every method of each class using its own object/instance.\n",
    "\n",
    "class Dog:\n",
    "    attr1 = \"mammal\"\n",
    "    attr2 = \"dog\"\n",
    "\n",
    "    def fun(self):\n",
    "        print(\"I'm a\", self.attr1)\n",
    "        print(\"I'm a\", self.attr2)\n",
    "\n",
    "\n",
    "Rodger = Dog()\n",
    "\n",
    "print(Rodger.attr1)\n",
    "Rodger.fun()\n"
   ]
  },
  {
   "cell_type": "code",
   "execution_count": 5,
   "id": "0d79802a",
   "metadata": {},
   "outputs": [
    {
     "name": "stdout",
     "output_type": "stream",
     "text": [
      "Y\n",
      "X\n",
      "reset Y\n",
      "reset X\n",
      "back to reset Y\n",
      "back to X\n",
      "reset Y\n",
      "reset X\n",
      "back to reset Y\n",
      "back to Y\n"
     ]
    }
   ],
   "source": [
    "#Call an overridden method with super class reference to B and C class’s objects\n",
    "class X(object):\n",
    "    def __init__ ( self ):\n",
    "        print (\"X\")\n",
    "        self.x = 'x'\n",
    "        self.reset()\n",
    "        print (\"back to X\")\n",
    "    def reset ( self ):\n",
    "        print (\"reset X\")\n",
    "        self.xx = 'xx'\n",
    "\n",
    "class Y(X):\n",
    "    def __init__ ( self ):\n",
    "        print (\"Y\")\n",
    "        super(Y,self).__init__()\n",
    "        self.y = 'y'\n",
    "        self.reset()\n",
    "        print (\"back to Y\")\n",
    "    def reset ( self ):\n",
    "        print (\"reset Y\")\n",
    "        super(Y,self).reset()\n",
    "        print (\"back to reset Y\")\n",
    "        self.yy = 'yy'\n",
    "\n",
    "aY = Y()"
   ]
  },
  {
   "cell_type": "code",
   "execution_count": 6,
   "id": "0514067d",
   "metadata": {},
   "outputs": [
    {
     "name": "stdout",
     "output_type": "stream",
     "text": [
      "Meow\n",
      "I am a cat. My name is Kitty. I am 2.5 years old.\n",
      "Meow\n",
      "Bark\n",
      "I am a dog. My name is Fluffy. I am 4 years old.\n",
      "Bark\n"
     ]
    }
   ],
   "source": [
    "#Runtime Polymorphism with Data Members/Instance variables, Repeat the above process only for data members\n",
    "class Cat:\n",
    "    def __init__(self, name, age):\n",
    "        self.name = name\n",
    "        self.age = age\n",
    "\n",
    "    def info(self):\n",
    "        print(f\"I am a cat. My name is {self.name}. I am {self.age} years old.\")\n",
    "\n",
    "    def make_sound(self):\n",
    "        print(\"Meow\")\n",
    "\n",
    "\n",
    "class Dog:\n",
    "    def __init__(self, name, age):\n",
    "        self.name = name\n",
    "        self.age = age\n",
    "\n",
    "    def info(self):\n",
    "        print(f\"I am a dog. My name is {self.name}. I am {self.age} years old.\")\n",
    "\n",
    "    def make_sound(self):\n",
    "        print(\"Bark\")\n",
    "\n",
    "\n",
    "cat1 = Cat(\"Kitty\", 2.5)\n",
    "dog1 = Dog(\"Fluffy\", 4)\n",
    "\n",
    "for animal in (cat1, dog1):\n",
    "    animal.make_sound()\n",
    "    animal.info()\n",
    "    animal.make_sound()\n"
   ]
  },
  {
   "cell_type": "code",
   "execution_count": null,
   "id": "fe770502",
   "metadata": {},
   "outputs": [],
   "source": []
  }
 ],
 "metadata": {
  "kernelspec": {
   "display_name": "Python 3 (ipykernel)",
   "language": "python",
   "name": "python3"
  },
  "language_info": {
   "codemirror_mode": {
    "name": "ipython",
    "version": 3
   },
   "file_extension": ".py",
   "mimetype": "text/x-python",
   "name": "python",
   "nbconvert_exporter": "python",
   "pygments_lexer": "ipython3",
   "version": "3.9.12"
  }
 },
 "nbformat": 4,
 "nbformat_minor": 5
}
