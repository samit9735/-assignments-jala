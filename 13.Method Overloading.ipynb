{
 "cells": [
  {
   "cell_type": "code",
   "execution_count": 1,
   "id": "0df2a87d",
   "metadata": {},
   "outputs": [
    {
     "name": "stdout",
     "output_type": "stream",
     "text": [
      "100\n"
     ]
    }
   ],
   "source": [
    "#1. Write two methods with the same name but different number of parameters of same type and call the methods\n",
    "\n",
    "def product(a, b):\n",
    "    p = a * b\n",
    "    print(p)\n",
    "\n",
    "def product(a, b, c):\n",
    "    p = a * b*c\n",
    "    print(p)\n",
    "\n",
    "product(4, 5, 5)"
   ]
  },
  {
   "cell_type": "code",
   "execution_count": 2,
   "id": "8fc7219a",
   "metadata": {},
   "outputs": [
    {
     "name": "stdout",
     "output_type": "stream",
     "text": [
      "11\n",
      "Hi Geeks\n"
     ]
    }
   ],
   "source": [
    "#2. Write two methods with the same name but different number of parameters of different data type and call the methods\n",
    "def add(datatype, *args):\n",
    "    if datatype == 'int':\n",
    "        answer = 0\n",
    "    if datatype == 'str':\n",
    "        answer = ''\n",
    "    for x in args:\n",
    "\n",
    "        answer = answer + x\n",
    "    print(answer)\n",
    "\n",
    "add('int', 5, 6)\n",
    "\n",
    "add('str', 'Hi ', 'Geeks')\n"
   ]
  },
  {
   "cell_type": "code",
   "execution_count": 3,
   "id": "f15045f8",
   "metadata": {},
   "outputs": [
    {
     "name": "stdout",
     "output_type": "stream",
     "text": [
      "5\n",
      "2\n"
     ]
    }
   ],
   "source": [
    "#3. Write two methods with the same name and same number of parameters of same type\n",
    "\n",
    "def add(a=None, b=None):\n",
    "\n",
    "    if a != None and b == None:\n",
    "        print(a)\n",
    "\n",
    "    else:\n",
    "        print(a+b)\n",
    "\n",
    "add(2, 3)\n",
    "add(2)\n"
   ]
  },
  {
   "cell_type": "code",
   "execution_count": null,
   "id": "82bfb982",
   "metadata": {},
   "outputs": [],
   "source": []
  }
 ],
 "metadata": {
  "kernelspec": {
   "display_name": "Python 3 (ipykernel)",
   "language": "python",
   "name": "python3"
  },
  "language_info": {
   "codemirror_mode": {
    "name": "ipython",
    "version": 3
   },
   "file_extension": ".py",
   "mimetype": "text/x-python",
   "name": "python",
   "nbconvert_exporter": "python",
   "pygments_lexer": "ipython3",
   "version": "3.9.12"
  }
 },
 "nbformat": 4,
 "nbformat_minor": 5
}
