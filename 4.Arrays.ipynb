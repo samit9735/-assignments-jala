{
 "cells": [
  {
   "cell_type": "code",
   "execution_count": 1,
   "id": "dd75ae98",
   "metadata": {},
   "outputs": [
    {
     "name": "stdout",
     "output_type": "stream",
     "text": [
      "Sum of the array is  34\n"
     ]
    }
   ],
   "source": [
    "#1. Write a function to add integer values of an array\n",
    "def _sum(arr):\n",
    "    sum = 0\n",
    "    for i in arr:\n",
    "        sum = sum + i\n",
    "\n",
    "    return(sum)\n",
    "arr = []\n",
    "arr = [12, 3, 4, 15]\n",
    "n = len(arr)\n",
    "ans = _sum(arr)\n",
    "print('Sum of the array is ', ans)\n"
   ]
  },
  {
   "cell_type": "code",
   "execution_count": 2,
   "id": "e863e3f9",
   "metadata": {},
   "outputs": [
    {
     "name": "stdout",
     "output_type": "stream",
     "text": [
      "Average of the list = 35.75\n"
     ]
    }
   ],
   "source": [
    "#2. Write a function to calculate the average value of an array of integers\n",
    "def Average(lst):\n",
    "    return sum(lst) / len(lst)\n",
    "lst = [15, 9, 55, 41, 35, 20, 62, 49]\n",
    "average = Average(lst)\n",
    "\n",
    "print(\"Average of the list =\", round(average, 2))\n"
   ]
  },
  {
   "cell_type": "code",
   "execution_count": 3,
   "id": "492ca0a3",
   "metadata": {},
   "outputs": [
    {
     "name": "stdout",
     "output_type": "stream",
     "text": [
      "All index value of 3 is:  [2 7]\n",
      "First index value of 3 is:  2\n"
     ]
    }
   ],
   "source": [
    "#3. Write a program to find the index of an array element\n",
    "import numpy as np\n",
    "\n",
    "a = np.array([1, 2, 3, 4, 8, 6, 7, 3, 9, 10])\n",
    "\n",
    "print(\"All index value of 3 is: \", np.where(a == 3)[0])\n",
    "\n",
    "print(\"First index value of 3 is: \",np.where(a==3)[0][0])\n"
   ]
  },
  {
   "cell_type": "code",
   "execution_count": 4,
   "id": "e62e4198",
   "metadata": {},
   "outputs": [
    {
     "name": "stdout",
     "output_type": "stream",
     "text": [
      "Checking if 15 exists in list\n",
      "Yes, 15 exists in list\n"
     ]
    }
   ],
   "source": [
    "#4. Write a function to test if array contains a specific value\n",
    "test_list = [10, 15, 20, 7, 46, 2808]\n",
    "\n",
    "print(\"Checking if 15 exists in list\")\n",
    "exist_count = test_list.count(15)\n",
    "if exist_count > 0:\n",
    "    print(\"Yes, 15 exists in list\")\n",
    "else:\n",
    "    print(\"No, 15 does not exists in list\")\n",
    "\n"
   ]
  },
  {
   "cell_type": "code",
   "execution_count": 5,
   "id": "ec4d769b",
   "metadata": {},
   "outputs": [
    {
     "name": "stdout",
     "output_type": "stream",
     "text": [
      "original list : [1, 3, 8, 4, 9, 2, 9]\n",
      "List after element removal is : [1, 3, 8, 4, 9, 9]\n"
     ]
    }
   ],
   "source": [
    "#5. Write a function to remove a specific element from an array\n",
    "\n",
    "list1 = [1, 3, 8, 4, 9, 2, 9]\n",
    "\n",
    "print (\"original list : \"+ str(list1))\n",
    "\n",
    "list1.remove(2)\n",
    "\n",
    "print (\"List after element removal is : \" + str(list1))\n"
   ]
  },
  {
   "cell_type": "code",
   "execution_count": 6,
   "id": "7606d7de",
   "metadata": {},
   "outputs": [
    {
     "name": "stdout",
     "output_type": "stream",
     "text": [
      "array 1 [1 2 3]\n",
      "array 2 [1 2 3]\n"
     ]
    }
   ],
   "source": [
    "#6. Write a function to copy an array to another array\n",
    "import numpy as np\n",
    "array1=np.array([1,2,3])\n",
    "print(\"array 1\",array1)\n",
    "array2=array1.copy()\n",
    "print(\"array 2\",array2)"
   ]
  },
  {
   "cell_type": "code",
   "execution_count": 7,
   "id": "b0cddb5e",
   "metadata": {},
   "outputs": [
    {
     "name": "stdout",
     "output_type": "stream",
     "text": [
      "[1, 2, 3, 4, 10, 5, 6, 7]\n"
     ]
    }
   ],
   "source": [
    "#7. Write a function to insert an element at a specific position in the array\n",
    "list1 = [ 1, 2, 3, 4, 5, 6, 7 ]\n",
    "list1.insert(4, 10)\n",
    "print(list1)\n"
   ]
  },
  {
   "cell_type": "code",
   "execution_count": 8,
   "id": "1f1d8c38",
   "metadata": {},
   "outputs": [
    {
     "name": "stdout",
     "output_type": "stream",
     "text": [
      "4\n",
      "10\n"
     ]
    }
   ],
   "source": [
    "#8. Write a function to find the minimum and maximum value of an array\n",
    "arr = [10, 89, 9, 56, 4, 80, 8]\n",
    "mini = arr[0]\n",
    "maxi = arr[0]\n",
    "\n",
    "for i in range(len(arr)):\n",
    "  if arr[i] < mini: mini = arr[i] \n",
    "  \n",
    "if arr[i] > maxi: maxi = arr[i]\n",
    "\n",
    "print (mini)\n",
    "print (maxi)\n"
   ]
  },
  {
   "cell_type": "code",
   "execution_count": 9,
   "id": "d983eff8",
   "metadata": {},
   "outputs": [
    {
     "name": "stdout",
     "output_type": "stream",
     "text": [
      "Using reverse()  [15, 14, 13, 12, 11, 10]\n",
      "Using reversed()  [10, 11, 12, 13, 14, 15]\n"
     ]
    }
   ],
   "source": [
    "#9. Write a function to reverse an array of integer values\n",
    "lst = [10, 11, 12, 13, 14, 15]\n",
    "lst.reverse()\n",
    "print(\"Using reverse() \", lst)\n",
    "\n",
    "print(\"Using reversed() \", list(reversed(lst)))\n"
   ]
  },
  {
   "cell_type": "code",
   "execution_count": 10,
   "id": "39c80e7b",
   "metadata": {},
   "outputs": [
    {
     "name": "stdout",
     "output_type": "stream",
     "text": [
      "Duplicate elements in given array: \n",
      "2\n",
      "3\n",
      "8\n"
     ]
    }
   ],
   "source": [
    "#10. Write a function to find the duplicate values of an array\n",
    "arr = [1, 2, 3, 4, 2, 7, 8, 8, 3];     \n",
    "     \n",
    "print(\"Duplicate elements in given array: \");    \n",
    "    \n",
    "for i in range(0, len(arr)):    \n",
    "    for j in range(i+1, len(arr)):    \n",
    "        if(arr[i] == arr[j]):    \n",
    "            print(arr[j]); "
   ]
  },
  {
   "cell_type": "code",
   "execution_count": 11,
   "id": "f3e4f0de",
   "metadata": {},
   "outputs": [
    {
     "name": "stdout",
     "output_type": "stream",
     "text": [
      "[0 2 4]\n"
     ]
    }
   ],
   "source": [
    "#11. Write a program to find the common values between two arrays\n",
    "import numpy as np\n",
    "x = np.array([0, 1, 2, 3, 4]) \n",
    "y = np.array([0, 2, 4])\n",
    "print(np.intersect1d(x, y)) "
   ]
  },
  {
   "cell_type": "code",
   "execution_count": 12,
   "id": "ebb6e485",
   "metadata": {},
   "outputs": [
    {
     "name": "stdout",
     "output_type": "stream",
     "text": [
      "[2, 4, 5, 10, 20]\n"
     ]
    }
   ],
   "source": [
    "#12. Write a method to remove duplicate elements from an array\n",
    "duplicate = [2, 4, 10, 20, 5, 2, 20, 4]\n",
    "print(list(set(duplicate)))"
   ]
  },
  {
   "cell_type": "code",
   "execution_count": 13,
   "id": "90e0bf01",
   "metadata": {},
   "outputs": [
    {
     "name": "stdout",
     "output_type": "stream",
     "text": [
      "Second highest number is :  45\n"
     ]
    }
   ],
   "source": [
    "#13. Write a method to find the second largest number in an array\n",
    "\n",
    "list1 = [10, 20, 4, 45, 99]\n",
    "\n",
    "mx = max(list1[0], list1[1])\n",
    "secondmax = min(list1[0], list1[1])\n",
    "n = len(list1)\n",
    "for i in range(2,n):\n",
    "    if list1[i] > mx:\n",
    "        secondmax = mx\n",
    "        mx = list1[i]\n",
    "    elif list1[i] > secondmax and \\\n",
    "        mx != list1[i]:\n",
    "        secondmax = list1[i]\n",
    "    elif mx == secondmax and \\\n",
    "        secondmax != list1[i]:\n",
    "        secondmax = list1[i]\n",
    "\n",
    "print(\"Second highest number is : \",\\\n",
    "    str(secondmax))\n"
   ]
  },
  {
   "cell_type": "code",
   "execution_count": 14,
   "id": "d4b0cf93",
   "metadata": {},
   "outputs": [
    {
     "name": "stdout",
     "output_type": "stream",
     "text": [
      "Even numbers in the list:  3\n",
      "Odd numbers in the list:  4\n"
     ]
    }
   ],
   "source": [
    "#14.Write a method to find number of even number and odd numbers in an array\n",
    "list1 = [10, 21, 4, 45, 66, 93, 1]\n",
    "\n",
    "even_count, odd_count = 0, 0\n",
    "for num in list1:\n",
    "    if num % 2 == 0:\n",
    "        even_count += 1\n",
    "\n",
    "    else:\n",
    "        odd_count += 1\n",
    "\n",
    "print(\"Even numbers in the list: \", even_count)\n",
    "print(\"Odd numbers in the list: \", odd_count)\n"
   ]
  },
  {
   "cell_type": "code",
   "execution_count": 1,
   "id": "e12c943c",
   "metadata": {},
   "outputs": [
    {
     "name": "stdout",
     "output_type": "stream",
     "text": [
      "Input an integer created by 8 numbers from 0 to 9.:\n",
      "5658696\n",
      "Difference between the largest and the smallest integer from the given integer:\n",
      "4299966\n"
     ]
    }
   ],
   "source": [
    "#15.Write a function to get the difference of largest and smallest value\n",
    "print(\"Input an integer created by 8 numbers from 0 to 9.:\")\n",
    "num = list(input())\n",
    "print(\"Difference between the largest and the smallest integer from the given integer:\")\n",
    "print(int(\"\".join(sorted(num,reverse=True))) - int(\"\".join(sorted(num))))\n"
   ]
  },
  {
   "cell_type": "code",
   "execution_count": 2,
   "id": "5f287d58",
   "metadata": {},
   "outputs": [
    {
     "name": "stdout",
     "output_type": "stream",
     "text": [
      "The initialized list is  [12, 15, 11, 12, 8, 15, 3, 3]\n",
      "The resultant list after removing duplicates is  [12, 15, 11, 8, 3]\n"
     ]
    }
   ],
   "source": [
    "#16. Write a method to verify if the array contains two specified elements(12,23)\n",
    "list_value1=[12,15,11,12,8,15,3,3]  \n",
    "print(\"The initialized list is \",list_value1)  \n",
    "res_list=[]  \n",
    "for i in list_value1:  \n",
    "    if i not in res_list:  \n",
    "        res_list.append(i)    \n",
    "print(\"The resultant list after removing duplicates is \",res_list) "
   ]
  },
  {
   "cell_type": "code",
   "execution_count": null,
   "id": "b5d454fa",
   "metadata": {},
   "outputs": [],
   "source": []
  }
 ],
 "metadata": {
  "kernelspec": {
   "display_name": "Python 3 (ipykernel)",
   "language": "python",
   "name": "python3"
  },
  "language_info": {
   "codemirror_mode": {
    "name": "ipython",
    "version": 3
   },
   "file_extension": ".py",
   "mimetype": "text/x-python",
   "name": "python",
   "nbconvert_exporter": "python",
   "pygments_lexer": "ipython3",
   "version": "3.9.12"
  }
 },
 "nbformat": 4,
 "nbformat_minor": 5
}
