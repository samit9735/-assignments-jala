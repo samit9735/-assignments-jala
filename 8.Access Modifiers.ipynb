{
 "cells": [
  {
   "cell_type": "code",
   "execution_count": 1,
   "id": "74f70ce9",
   "metadata": {},
   "outputs": [
    {
     "name": "stdout",
     "output_type": "stream",
     "text": [
      "Public method\n",
      "\n",
      "Inside derived class\n",
      "Public method\n"
     ]
    }
   ],
   "source": [
    "#1. Create a class with PRIVATE fields, private method and a main method.\n",
    "#Print the fields in main method. Call the private method in main method.\n",
    "class Base:\n",
    "    def fun(self):\n",
    "        print(\"Public method\")\n",
    "\n",
    "    def __fun(self):\n",
    "        print(\"Private method\")\n",
    "\n",
    "\n",
    "class Derived(Base):\n",
    "    def __init__(self):\n",
    "\n",
    "        Base.__init__(self)\n",
    "\n",
    "    def call_public(self):\n",
    "\n",
    "        print(\"\\nInside derived class\")\n",
    "        self.fun()\n",
    "\n",
    "    def call_private(self):\n",
    "        self.__fun()\n",
    "obj1 = Base()\n",
    "\n",
    "obj1.fun()\n",
    "\n",
    "obj2 = Derived()\n",
    "obj2.call_public()"
   ]
  },
  {
   "cell_type": "code",
   "execution_count": 2,
   "id": "56975a5a",
   "metadata": {},
   "outputs": [
    {
     "name": "stdout",
     "output_type": "stream",
     "text": [
      "Name:  R2J\n",
      "Roll:  1706256\n",
      "Branch:  Information Technology\n"
     ]
    }
   ],
   "source": [
    "#2. Create a class with PROTECTED fields and methods. Access these fields and methods from any other class in the same package.\n",
    "#Also, Access the PROTECTED fields and methods from child class located in a different package\n",
    "#Access the PROTECTED fields and methods from any class in different package\n",
    "\n",
    "class Student:\n",
    "    _name = None\n",
    "    _roll = None\n",
    "    _branch = None\n",
    "    \n",
    "    def __init__(self, name, roll, branch):\n",
    "        self._name = name\n",
    "        self._roll = roll\n",
    "        self._branch = branch\n",
    "        \n",
    "    def _displayRollAndBranch(self):\n",
    "        print(\"Roll: \", self._roll)\n",
    "        print(\"Branch: \", self._branch)\n",
    "\n",
    "class Geek(Student):\n",
    "    def __init__(self, name, roll, branch):\n",
    "                Student.__init__(self, name, roll, branch)\n",
    "    def displayDetails(self):\n",
    "                print(\"Name: \", self._name)\n",
    "                self._displayRollAndBranch()\n",
    "\n",
    "obj = Geek(\"R2J\", 1706256, \"Information Technology\")\n",
    "\n",
    "obj.displayDetails()"
   ]
  },
  {
   "cell_type": "code",
   "execution_count": 3,
   "id": "71a59273",
   "metadata": {},
   "outputs": [
    {
     "name": "stdout",
     "output_type": "stream",
     "text": [
      "After local assignment: test spam\n",
      "After nonlocal assignment: nonlocal spam\n",
      "After global assignment: nonlocal spam\n",
      "In global scope: global spam\n"
     ]
    }
   ],
   "source": [
    "#3. Create a class with PUBLIC fields and methods.\n",
    "#Access the public methods and fields from any class in the same package or different package.\n",
    "def scope_test():\n",
    "    def do_local():\n",
    "        spam = \"local spam\"\n",
    "\n",
    "    def do_nonlocal():\n",
    "        nonlocal spam\n",
    "        spam = \"nonlocal spam\"\n",
    "\n",
    "    def do_global():\n",
    "        global spam\n",
    "        spam = \"global spam\"\n",
    "\n",
    "    spam = \"test spam\"\n",
    "    do_local()\n",
    "    print(\"After local assignment:\", spam)\n",
    "    do_nonlocal()\n",
    "    print(\"After nonlocal assignment:\", spam)\n",
    "    do_global()\n",
    "    print(\"After global assignment:\", spam)\n",
    "\n",
    "scope_test()\n",
    "print(\"In global scope:\", spam)"
   ]
  },
  {
   "cell_type": "code",
   "execution_count": null,
   "id": "47dd9e37",
   "metadata": {},
   "outputs": [],
   "source": []
  }
 ],
 "metadata": {
  "kernelspec": {
   "display_name": "Python 3 (ipykernel)",
   "language": "python",
   "name": "python3"
  },
  "language_info": {
   "codemirror_mode": {
    "name": "ipython",
    "version": 3
   },
   "file_extension": ".py",
   "mimetype": "text/x-python",
   "name": "python",
   "nbconvert_exporter": "python",
   "pygments_lexer": "ipython3",
   "version": "3.9.12"
  }
 },
 "nbformat": 4,
 "nbformat_minor": 5
}
