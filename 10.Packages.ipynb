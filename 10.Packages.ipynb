{
 "cells": [
  {
   "cell_type": "code",
   "execution_count": 1,
   "id": "b0542564",
   "metadata": {},
   "outputs": [
    {
     "name": "stdout",
     "output_type": "stream",
     "text": [
      "(0, 0)\n",
      "(5, 6)\n",
      "(3, 4)\n",
      "(8, 10)\n",
      "(5, 6)\n",
      "(9, 12)\n",
      "(9, 12)\n"
     ]
    }
   ],
   "source": [
    "\"\"\"1. Create a program to create two class.\n",
    "1.1. Create a constructor and a method for each class\n",
    "1.2. Create a __init__.py for adding all packages\n",
    "1.3. Import the respective packages\n",
    "1.4. Call each class by creating an object to it\n",
    "1.5. Create a program by all the above\"\"\"\n",
    "class Point:\n",
    "    def __init__(self, x = 0, y = 0):\n",
    "        self.x = x\n",
    "        self.y = y\n",
    " \n",
    "    def __str__(self):\n",
    "        return '({}, {})'.format(self.x, self.y)\n",
    " \n",
    "    def __repr__(self):\n",
    "        return 'Point(x={}, y={})'.format(self.x, self.y)\n",
    " \n",
    "    def __add__(self, right):\n",
    "        p = Point(self.x + right.x, self.y + right.y)\n",
    "        return p\n",
    " \n",
    "    def __mul__(self, factor):\n",
    "        self.x *= factor\n",
    "        self.y *= factor\n",
    "        return self\n",
    "    \n",
    "if __name__ == '__main__':\n",
    "    p1 = Point()\n",
    "    print(p1)     \n",
    "    p1.x = 5\n",
    "    p1.y = 6\n",
    "    print(p1)     \n",
    "    p2 = Point(3, 4)\n",
    "    print(p2)     \n",
    "    print(p1 + p2) \n",
    "    print(p1)     \n",
    "    print(p2 * 3) \n",
    "    print(p2)"
   ]
  },
  {
   "cell_type": "code",
   "execution_count": null,
   "id": "3790d00b",
   "metadata": {},
   "outputs": [],
   "source": []
  }
 ],
 "metadata": {
  "kernelspec": {
   "display_name": "Python 3 (ipykernel)",
   "language": "python",
   "name": "python3"
  },
  "language_info": {
   "codemirror_mode": {
    "name": "ipython",
    "version": 3
   },
   "file_extension": ".py",
   "mimetype": "text/x-python",
   "name": "python",
   "nbconvert_exporter": "python",
   "pygments_lexer": "ipython3",
   "version": "3.9.12"
  }
 },
 "nbformat": 4,
 "nbformat_minor": 5
}
