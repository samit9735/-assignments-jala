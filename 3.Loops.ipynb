{
 "cells": [
  {
   "cell_type": "code",
   "execution_count": 1,
   "id": "d29d3f69",
   "metadata": {},
   "outputs": [
    {
     "name": "stdout",
     "output_type": "stream",
     "text": [
      "Bright IT Career\n",
      "Bright IT Career\n",
      "Bright IT Career\n",
      "Bright IT Career\n",
      "Bright IT Career\n",
      "Bright IT Career\n",
      "Bright IT Career\n",
      "Bright IT Career\n",
      "Bright IT Career\n",
      "Bright IT Career\n"
     ]
    }
   ],
   "source": [
    "#1. Write a program to print “Bright IT Career” ten times using for loop\n",
    "count = 0;\n",
    "while count < 10:\n",
    "    print(\"Bright IT Career\")\n",
    "    count += 1\n"
   ]
  },
  {
   "cell_type": "code",
   "execution_count": 2,
   "id": "4a47744d",
   "metadata": {},
   "outputs": [
    {
     "name": "stdout",
     "output_type": "stream",
     "text": [
      "1\n",
      "2\n",
      "3\n",
      "4\n",
      "5\n",
      "6\n",
      "7\n",
      "8\n",
      "9\n",
      "10\n",
      "11\n",
      "12\n",
      "13\n",
      "14\n",
      "15\n",
      "16\n",
      "17\n",
      "18\n",
      "19\n",
      "20\n"
     ]
    }
   ],
   "source": [
    "#2. Write a java program to print 1 to 20 numbers using the while loop.\n",
    "for i in range(1,21):\n",
    "    print(i)\n",
    "    i=i+1"
   ]
  },
  {
   "cell_type": "code",
   "execution_count": 3,
   "id": "b26b4c7f",
   "metadata": {},
   "outputs": [
    {
     "name": "stdout",
     "output_type": "stream",
     "text": [
      "True\n",
      "False\n"
     ]
    }
   ],
   "source": [
    "#3. Program to equal operator and not equal operators\n",
    "A = 1\n",
    "B = 2\n",
    "C = 2\n",
    "\n",
    "print(A!=B)\n",
    "print(B!=C)\n"
   ]
  },
  {
   "cell_type": "code",
   "execution_count": 4,
   "id": "26fa4548",
   "metadata": {},
   "outputs": [
    {
     "name": "stdout",
     "output_type": "stream",
     "text": [
      "Enter a Number:2\n",
      "Given number is Even\n"
     ]
    }
   ],
   "source": [
    "#4. Write a program to print the odd and even numbers.\n",
    "num = int(input(\"Enter a Number:\")) \n",
    "if num % 2 == 0: \n",
    "  print(\"Given number is Even\") \n",
    "else: \n",
    "  print(\"Given number is Odd\")"
   ]
  },
  {
   "cell_type": "code",
   "execution_count": 5,
   "id": "b22ac653",
   "metadata": {},
   "outputs": [
    {
     "name": "stdout",
     "output_type": "stream",
     "text": [
      "Enter first number  : 1\n",
      "Enter second number : 2\n",
      "Enter third number  : 3\n",
      "3 is the largest of three numbers.\n"
     ]
    }
   ],
   "source": [
    "#5. Write a program to print largest number among three numbers.\n",
    "a = int(input('Enter first number  : '))\n",
    "b = int(input('Enter second number : '))\n",
    "c = int(input('Enter third number  : '))\n",
    "\n",
    "largest = 0\n",
    "\n",
    "if a > b and a > c:\n",
    "    largest = a\n",
    "if b > a and b > c:\n",
    "    largest = b\n",
    "if c > a and c > b:\n",
    "    largest = c\n",
    "\n",
    "print(largest, \"is the largest of three numbers.\")"
   ]
  },
  {
   "cell_type": "code",
   "execution_count": 6,
   "id": "75202cb7",
   "metadata": {},
   "outputs": [
    {
     "name": "stdout",
     "output_type": "stream",
     "text": [
      "10\n",
      "12\n",
      "14\n",
      "16\n",
      "18\n",
      "20\n"
     ]
    }
   ],
   "source": [
    "#6. Write a program to print even number between 10 and 20 using while\n",
    "num = 10\n",
    "\n",
    "while num <= 20:\n",
    "    print(num)\n",
    "    num = num + 2"
   ]
  },
  {
   "cell_type": "code",
   "execution_count": 7,
   "id": "4309c7a1",
   "metadata": {},
   "outputs": [
    {
     "name": "stdout",
     "output_type": "stream",
     "text": [
      "1\n",
      "2\n",
      "3\n",
      "4\n",
      "5\n",
      "6\n",
      "7\n",
      "8\n",
      "9\n",
      "10\n"
     ]
    }
   ],
   "source": [
    "#7. Write a program to print 1 to 10 using the do-while loop statement.\n",
    "i = 1\n",
    "while(i<=10):\n",
    "    print(i)\n",
    "    i += 1"
   ]
  },
  {
   "cell_type": "code",
   "execution_count": 8,
   "id": "ba9fdf7e",
   "metadata": {},
   "outputs": [
    {
     "name": "stdout",
     "output_type": "stream",
     "text": [
      "Enter 3-digit number : 153\n",
      "It is an Armstrong number\n"
     ]
    }
   ],
   "source": [
    "#8. Write a program to find Armstrong number or not\n",
    "num = int(input(\"Enter 3-digit number : \"))\n",
    " \n",
    "sum = 0\n",
    "temp = num\n",
    "while temp > 0:\n",
    "    digit = temp % 10\n",
    "    sum += digit * digit * digit\n",
    "    temp = temp//10\n",
    " \n",
    "if sum==num:\n",
    "    print('It is an Armstrong number')\n",
    "else:\n",
    "    print('It is not an Armstrong number')"
   ]
  },
  {
   "cell_type": "code",
   "execution_count": 9,
   "id": "8fc7727e",
   "metadata": {},
   "outputs": [
    {
     "name": "stdout",
     "output_type": "stream",
     "text": [
      "Enter the number: 2\n",
      "2 is a prime number\n"
     ]
    }
   ],
   "source": [
    "#9. Write a program to find the prime or not.\n",
    "num = int(input(\"Enter the number: \"))\n",
    "\n",
    "if num > 1:\n",
    "    for i in range(2,num):\n",
    "        if (num % i) == 0:\n",
    "            print(num,\"is not a prime number\")\n",
    "            print(i,\"times\",num//i,\"is\",num)\n",
    "            break\n",
    "    else:\n",
    "        print(num,\"is a prime number\")\n",
    "else:\n",
    "    print(num,\"is not a prime number\")"
   ]
  },
  {
   "cell_type": "code",
   "execution_count": 10,
   "id": "f42fcbe1",
   "metadata": {},
   "outputs": [
    {
     "name": "stdout",
     "output_type": "stream",
     "text": [
      "Enter number:5\n",
      "The number is a palindrome!\n"
     ]
    }
   ],
   "source": [
    "#10. Write a program to palindrome or not.\n",
    "n=int(input(\"Enter number:\"))\n",
    "temp=n\n",
    "rev=0\n",
    "while(n>0):\n",
    "    dig=n%10\n",
    "    rev=rev*10+dig\n",
    "    n=n//10\n",
    "if(temp==rev):\n",
    "    print(\"The number is a palindrome!\")\n",
    "else:\n",
    "    print(\"The number isn't a palindrome!\")"
   ]
  },
  {
   "cell_type": "code",
   "execution_count": 11,
   "id": "c055aa31",
   "metadata": {},
   "outputs": [
    {
     "name": "stdout",
     "output_type": "stream",
     "text": [
      "Enter a number: 8\n",
      "This is an even number.\n"
     ]
    }
   ],
   "source": [
    "#11. Program to check whether a number is EVEN or ODD using switch\n",
    "num = int(input(\"Enter a number: \"))\n",
    "mod = num % 2\n",
    "if mod > 0:\n",
    "    print(\"This is an odd number.\")\n",
    "else:\n",
    "    print(\"This is an even number.\")"
   ]
  },
  {
   "cell_type": "code",
   "execution_count": 12,
   "id": "3b795c10",
   "metadata": {},
   "outputs": [
    {
     "name": "stdout",
     "output_type": "stream",
     "text": [
      "Please enter your Gender : F\n",
      "The gender is Female\n"
     ]
    }
   ],
   "source": [
    "#12. Print gender (Male/Female) program according to given M/F using switch\n",
    "gender = input(\"Please enter your Gender : \")\n",
    "\n",
    "if (gender == \"M\" or gender == \"m\" or gender == \"Male\" or gender == \"male\"):\n",
    "    print(\"The gender in Male\")\n",
    "elif (gender == \"F\" or gender == \"f\" or gender == \"FeMale\" or gender == \"Female\" or gender == \"feMale\" or gender == \"female\"):\n",
    "    print(\"The gender is Female\")\n",
    "else:\n",
    "    print(\"Please provide an appropriate format\")"
   ]
  },
  {
   "cell_type": "code",
   "execution_count": null,
   "id": "2bd094e8",
   "metadata": {},
   "outputs": [],
   "source": []
  }
 ],
 "metadata": {
  "kernelspec": {
   "display_name": "Python 3 (ipykernel)",
   "language": "python",
   "name": "python3"
  },
  "language_info": {
   "codemirror_mode": {
    "name": "ipython",
    "version": 3
   },
   "file_extension": ".py",
   "mimetype": "text/x-python",
   "name": "python",
   "nbconvert_exporter": "python",
   "pygments_lexer": "ipython3",
   "version": "3.9.12"
  }
 },
 "nbformat": 4,
 "nbformat_minor": 5
}
