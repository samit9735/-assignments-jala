{
 "cells": [
  {
   "cell_type": "code",
   "execution_count": 1,
   "id": "288a721f",
   "metadata": {},
   "outputs": [
    {
     "name": "stdout",
     "output_type": "stream",
     "text": [
      "First number = 1000\n",
      "Second number = 2000\n",
      "Addition of two numbers = 3000\n",
      "First number = 10\n",
      "Second number = 20\n",
      "Addition of two numbers = 30\n"
     ]
    }
   ],
   "source": [
    "#1. Write a class with a default constructor, one argument constructor and two argument constructors. \n",
    "#Instantiate the class to call all the constructors of that class from a main class\n",
    "class Addition:\n",
    "    first = 0\n",
    "    second = 0\n",
    "    answer = 0\n",
    "    def __init__(self, f, s):\n",
    "        self.first = f\n",
    "        self.second = s\n",
    "\n",
    "    def display(self):\n",
    "        print(\"First number = \" + str(self.first))\n",
    "        print(\"Second number = \" + str(self.second))\n",
    "        print(\"Addition of two numbers = \" + str(self.answer))\n",
    "\n",
    "    def calculate(self):\n",
    "        self.answer = self.first + self.second\n",
    "\n",
    "obj1 = Addition(1000, 2000)\n",
    "\n",
    "obj2 = Addition(10, 20)\n",
    "\n",
    "obj1.calculate()\n",
    "\n",
    "obj2.calculate()\n",
    "\n",
    "obj1.display()\n",
    "\n",
    "obj2.display()"
   ]
  },
  {
   "cell_type": "code",
   "execution_count": 2,
   "id": "f9a66eb5",
   "metadata": {},
   "outputs": [
    {
     "name": "stdout",
     "output_type": "stream",
     "text": [
      "[1, 2, 3, 4, 5]\n"
     ]
    }
   ],
   "source": [
    "#2. Call the constructors(both default and argument constructors) of super class from a child class\n",
    "class Class():\n",
    "    def __init__(self, x):\n",
    "        print(x)\n",
    "class SubClass(Class):\n",
    "    def __init__(self, x):\n",
    "\n",
    "        super().__init__(x)\n",
    "\n",
    "x = [1, 2, 3, 4, 5]\n",
    "a = SubClass(x)\n"
   ]
  },
  {
   "cell_type": "code",
   "execution_count": 3,
   "id": "cfbc1028",
   "metadata": {},
   "outputs": [
    {
     "name": "stdout",
     "output_type": "stream",
     "text": [
      "21\n",
      "pythonlobby\n"
     ]
    }
   ],
   "source": [
    "#3. Apply private, public, protected and default access modifiers to the constructor\n",
    "class Student:\n",
    "    def __init__(self, age, name):\n",
    "        self.age = age            \n",
    "        self.name = name         \n",
    "\n",
    " \n",
    "obj = Student(21,\"pythonlobby\")\n",
    "print(obj.age)\n",
    "print(obj.name)"
   ]
  },
  {
   "cell_type": "code",
   "execution_count": 4,
   "id": "5c92977c",
   "metadata": {},
   "outputs": [
    {
     "name": "stdout",
     "output_type": "stream",
     "text": [
      "Accelerating\n",
      "Changing flaps\n",
      "Closing wheels\n"
     ]
    }
   ],
   "source": [
    "#4. Write a program which illustrates the concept of attributes of a constructor.\n",
    "class Plane:\n",
    "    def __init__(self):\n",
    "        self.wings = 2\n",
    "\n",
    "        # fly\n",
    "        self.drive()\n",
    "        self.flaps()\n",
    "        self.wheels()\n",
    "\n",
    "    def drive(self):\n",
    "            print('Accelerating')\n",
    "\n",
    "    def flaps(self):\n",
    "            print('Changing flaps')\n",
    "\n",
    "    def wheels(self):\n",
    "            print('Closing wheels')\n",
    "\n",
    "ba = Plane()"
   ]
  },
  {
   "cell_type": "code",
   "execution_count": null,
   "id": "a7352aaf",
   "metadata": {},
   "outputs": [],
   "source": []
  }
 ],
 "metadata": {
  "kernelspec": {
   "display_name": "Python 3 (ipykernel)",
   "language": "python",
   "name": "python3"
  },
  "language_info": {
   "codemirror_mode": {
    "name": "ipython",
    "version": 3
   },
   "file_extension": ".py",
   "mimetype": "text/x-python",
   "name": "python",
   "nbconvert_exporter": "python",
   "pygments_lexer": "ipython3",
   "version": "3.9.12"
  }
 },
 "nbformat": 4,
 "nbformat_minor": 5
}
