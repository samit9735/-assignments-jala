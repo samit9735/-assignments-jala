{
 "cells": [
  {
   "cell_type": "code",
   "execution_count": 1,
   "id": "81d000e9",
   "metadata": {},
   "outputs": [
    {
     "name": "stdout",
     "output_type": "stream",
     "text": [
      "Enter first number: 3\n",
      "Enter second number: 2\n",
      "The sum of 3 and 2 is 5.0\n",
      "The subtraction of 3 and 2 is 1.0\n",
      "The multiplication of 3 and 2 is 6.0\n",
      "The division of 3 and 2 is 1.5\n"
     ]
    }
   ],
   "source": [
    "#1. Write a function for arithmetic operators(+,-,*,/)\n",
    "num1 = input('Enter first number: ')  \n",
    "num2 = input('Enter second number: ')  \n",
    "# Add two numbers  \n",
    "sum = float(num1) + float(num2)  \n",
    "# Subtract two numbers  \n",
    "min = float(num1) - float(num2)  \n",
    "# Multiply two numbers  \n",
    "mul = float(num1) * float(num2)  \n",
    "#Divide two numbers  \n",
    "div = float(num1) / float(num2)  \n",
    "# Display the sum  \n",
    "print('The sum of {0} and {1} is {2}'.format(num1, num2, sum))  \n",
    "  \n",
    "# Display the subtraction  \n",
    "print('The subtraction of {0} and {1} is {2}'.format(num1, num2, min))  \n",
    "# Display the multiplication  \n",
    "print('The multiplication of {0} and {1} is {2}'.format(num1, num2, mul))  \n",
    "# Display the division  \n",
    "print('The division of {0} and {1} is {2}'.format(num1, num2, div)) "
   ]
  },
  {
   "cell_type": "code",
   "execution_count": 2,
   "id": "74c6d73e",
   "metadata": {},
   "outputs": [
    {
     "data": {
      "text/plain": [
       "7"
      ]
     },
     "execution_count": 2,
     "metadata": {},
     "output_type": "execute_result"
    }
   ],
   "source": [
    "#2. Write a method for increment and decrement operators(++, --)\n",
    "i = 7\n",
    "++i"
   ]
  },
  {
   "cell_type": "code",
   "execution_count": 3,
   "id": "9261b463",
   "metadata": {},
   "outputs": [
    {
     "data": {
      "text/plain": [
       "7"
      ]
     },
     "execution_count": 3,
     "metadata": {},
     "output_type": "execute_result"
    }
   ],
   "source": [
    "i=7\n",
    "--i"
   ]
  },
  {
   "cell_type": "code",
   "execution_count": 4,
   "id": "908d8992",
   "metadata": {},
   "outputs": [
    {
     "name": "stdout",
     "output_type": "stream",
     "text": [
      "equal\n"
     ]
    }
   ],
   "source": [
    "#3. Write a program to find the two numbers equal or not.\n",
    "a=20\n",
    "b=20\n",
    "if a==b:\n",
    " print (\"equal\")\n",
    "else:\n",
    " print (\"notequal\")"
   ]
  },
  {
   "cell_type": "code",
   "execution_count": 5,
   "id": "1bd2351a",
   "metadata": {},
   "outputs": [
    {
     "name": "stdout",
     "output_type": "stream",
     "text": [
      "False\n"
     ]
    }
   ],
   "source": [
    "#4. Program for relational operators (<,<=, >, >==)\n",
    "a = 9\n",
    "b = 5\n",
    "print(a < b)"
   ]
  },
  {
   "cell_type": "code",
   "execution_count": 6,
   "id": "2aad2fb8",
   "metadata": {},
   "outputs": [
    {
     "name": "stdout",
     "output_type": "stream",
     "text": [
      "False\n"
     ]
    }
   ],
   "source": [
    "a = 9\n",
    "b = 5\n",
    "print(a <= b)\n"
   ]
  },
  {
   "cell_type": "code",
   "execution_count": 7,
   "id": "f6e4a1f4",
   "metadata": {},
   "outputs": [
    {
     "name": "stdout",
     "output_type": "stream",
     "text": [
      "True\n"
     ]
    }
   ],
   "source": [
    "a = 9\n",
    "b = 5\n",
    "print(a >b)"
   ]
  },
  {
   "cell_type": "code",
   "execution_count": 8,
   "id": "ae0ea8a2",
   "metadata": {},
   "outputs": [
    {
     "name": "stdout",
     "output_type": "stream",
     "text": [
      "True\n"
     ]
    }
   ],
   "source": [
    "a = 9\n",
    "b = 5\n",
    "print(a >=b)"
   ]
  },
  {
   "cell_type": "code",
   "execution_count": 9,
   "id": "99787c0c",
   "metadata": {},
   "outputs": [
    {
     "name": "stdout",
     "output_type": "stream",
     "text": [
      "Smallest element is: 2\n",
      "Largest element is: 41\n"
     ]
    }
   ],
   "source": [
    "#5. Print the smaller and larger number\n",
    "# Python prog to illustrate the following in a list\n",
    "def find_len(list1):\n",
    "    length = len(list1)\n",
    "    list1.sort()\n",
    "    print(\"Smallest element is:\", list1[0])\n",
    "    print(\"Largest element is:\", list1[length-2])\n",
    "\n",
    "list1=[12, 45, 2, 41, 31, 10, 8, 6, 4]\n",
    "Largest = find_len(list1)\n"
   ]
  },
  {
   "cell_type": "code",
   "execution_count": null,
   "id": "dc4d9c80",
   "metadata": {},
   "outputs": [],
   "source": []
  }
 ],
 "metadata": {
  "kernelspec": {
   "display_name": "Python 3 (ipykernel)",
   "language": "python",
   "name": "python3"
  },
  "language_info": {
   "codemirror_mode": {
    "name": "ipython",
    "version": 3
   },
   "file_extension": ".py",
   "mimetype": "text/x-python",
   "name": "python",
   "nbconvert_exporter": "python",
   "pygments_lexer": "ipython3",
   "version": "3.9.12"
  }
 },
 "nbformat": 4,
 "nbformat_minor": 5
}
